{
 "cells": [
  {
   "cell_type": "code",
   "execution_count": null,
   "metadata": {},
   "outputs": [],
   "source": [
    "#q1\n",
    "a = 10\n",
    "b = 5\n",
    "\n",
    "sum_result = a + b\n",
    "difference = a - b\n",
    "product = a * b\n",
    "quotient = a / b  # Floating-point division\n",
    "\n",
    "print(\"Sum:\", sum_result)         # Output: 15\n",
    "print(\"Difference:\", difference)  # Output: 5\n",
    "print(\"Product:\", product)        # Output: 50\n",
    "print(\"Quotient:\", quotient)      # Output: 2.0\n"
   ]
  },
  {
   "cell_type": "code",
   "execution_count": null,
   "metadata": {},
   "outputs": [],
   "source": [
    "#q2\n",
    "x = 10\n",
    "\n",
    "x += 5   # x = x + 5\n",
    "x -= 3   # x = x - 3\n",
    "x *= 2   # x = x * 2\n",
    "x /= 4   # x = x / 4\n",
    "x %= 3   # x = x % 3\n",
    "x **= 2  # x = x ** 2\n",
    "x //= 2  # x = x // 2\n",
    "\n",
    "print(\"Final value of x:\", x)\n"
   ]
  },
  {
   "cell_type": "code",
   "execution_count": null,
   "metadata": {},
   "outputs": [],
   "source": [
    "#q2\n",
    "a = 15\n",
    "b = 10\n",
    "\n",
    "print(\"a > b:\", a > b)   # True\n",
    "print(\"a < b:\", a < b)   # False\n",
    "print(\"a == b:\", a == b) # False\n",
    "print(\"a != b:\", a != b) # True\n",
    "print(\"a >= b:\", a >= b) # True\n",
    "print(\"a <= b:\", a <= b) # False\n"
   ]
  },
  {
   "cell_type": "code",
   "execution_count": null,
   "metadata": {},
   "outputs": [],
   "source": [
    "#q3\n",
    "a = 15\n",
    "b = 10\n",
    "\n",
    "print(\"a > b:\", a > b)   # True\n",
    "print(\"a < b:\", a < b)   # False\n",
    "print(\"a == b:\", a == b) # False\n",
    "print(\"a != b:\", a != b) # True\n",
    "print(\"a >= b:\", a >= b) # True\n",
    "print(\"a <= b:\", a <= b) # False\n"
   ]
  },
  {
   "cell_type": "code",
   "execution_count": null,
   "metadata": {},
   "outputs": [],
   "source": [
    "#q4\n",
    "x = 10\n",
    "y = 20\n",
    "\n",
    "print(\"x > 5 and y < 30:\", x > 5 and y < 30)   # True\n",
    "print(\"x > 15 or y < 30:\", x > 15 or y < 30)   # True\n",
    "print(\"not (x > 5):\", not (x > 5))             # False\n"
   ]
  },
  {
   "cell_type": "code",
   "execution_count": null,
   "metadata": {},
   "outputs": [],
   "source": [
    "#q5\n",
    "a = 10\n",
    "b = 10\n",
    "c = [1, 2, 3]\n",
    "d = [1, 2, 3]\n",
    "\n",
    "print(\"a is b:\", a is b)   # True (Same memory location)\n",
    "print(\"c is d:\", c is d)   # False (Different memory locations)\n",
    "print(\"c is not d:\", c is not d)  # True\n"
   ]
  },
  {
   "cell_type": "code",
   "execution_count": null,
   "metadata": {},
   "outputs": [],
   "source": [
    "#q6\n",
    "num = 10\n",
    "neg_num = -num  # Changing the sign\n",
    "\n",
    "print(\"Original:\", num)    # Output: 10\n",
    "print(\"Negated:\", neg_num) # Output: -10\n"
   ]
  },
  {
   "cell_type": "code",
   "execution_count": null,
   "metadata": {},
   "outputs": [],
   "source": [
    "#q7\n",
    "a = 5  # 0101 in binary\n",
    "b = 3  # 0011 in binary\n",
    "\n",
    "print(\"Bitwise AND:\", a & b)  # Output: 1  (0001)\n",
    "print(\"Bitwise OR:\", a | b)   # Output: 7  (0111)\n",
    "print(\"Bitwise XOR:\", a ^ b)  # Output: 6  (0110)\n",
    "print(\"Bitwise NOT a:\", ~a)   # Output: -6 (Inverted bits)\n",
    "print(\"Left Shift a << 1:\", a << 1)  # Output: 10 (1010)\n",
    "print(\"Right Shift a >> 1:\", a >> 1) # Output: 2  (0010)\n"
   ]
  }
 ],
 "metadata": {
  "kernelspec": {
   "display_name": "base",
   "language": "python",
   "name": "python3"
  },
  "language_info": {
   "name": "python",
   "version": "3.12.7"
  }
 },
 "nbformat": 4,
 "nbformat_minor": 2
}
