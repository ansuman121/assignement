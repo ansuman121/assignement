{
 "cells": [
  {
   "cell_type": "code",
   "execution_count": null,
   "metadata": {},
   "outputs": [],
   "source": [
    "#q1\n",
    "#Significance of Python Keywords:\n",
    "\n",
    "#   Python keywords are reserved words that have special meanings and cannot be used as variable names, function names, or identifiers. \n",
    "#   These keywords help define the syntax and structure of the Python language.\n",
    "\n",
    "#Examples of Five Python Keywords:\n",
    "# if – Used for conditional statements.\n",
    "if 10 > 5:\n",
    "    print(\"10 is greater than 5\")  # Output: 10 is greater than 5\n",
    "\n"
   ]
  },
  {
   "cell_type": "code",
   "execution_count": null,
   "metadata": {},
   "outputs": [],
   "source": [
    "#for – Used for loops\n",
    "for i in range(3):\n",
    "    print(i)  # Output: 0, 1, 2\n"
   ]
  },
  {
   "cell_type": "code",
   "execution_count": null,
   "metadata": {},
   "outputs": [],
   "source": [
    "#def – Used to define a function.\n",
    "def greet():\n",
    "    print(\"Hello, World!\")\n",
    "greet()  # Output: Hello, World!\n",
    "\n"
   ]
  },
  {
   "cell_type": "code",
   "execution_count": null,
   "metadata": {},
   "outputs": [],
   "source": [
    "#return – Used to return a value from a function.\n",
    "def square(num):\n",
    "    return num * num\n",
    "print(square(4))  # Output: 16\n"
   ]
  },
  {
   "cell_type": "code",
   "execution_count": null,
   "metadata": {},
   "outputs": [],
   "source": [
    "#import – Used to import modules\n",
    "import math\n",
    "print(math.sqrt(25))  # Output: 5.0\n"
   ]
  },
  {
   "cell_type": "code",
   "execution_count": null,
   "metadata": {},
   "outputs": [],
   "source": [
    "#q2\n",
    "\"\"\" Rules for Defining Identifiers:\n",
    "1)Identifiers can contain letters (a-z, A-Z), digits (0-9), and underscores (_).\n",
    "2)An identifier cannot start with a digit.\n",
    "3)Python keywords cannot be used as identifiers.\n",
    "4)Identifiers are case-sensitive (Name and name are different).\n",
    "5)Special characters like @, #, $, % are not allowed.\n",
    "\"\"\"\n",
    "#example\n",
    "my_variable = 10  # Valid identifier\n",
    "_age = 25         # Valid identifier\n",
    "#2name = \"John\"    # Invalid (Cannot start with a digit)\n",
    "#class = \"Math\"    # Invalid (Cannot use a keyword)\n"
   ]
  },
  {
   "cell_type": "code",
   "execution_count": null,
   "metadata": {},
   "outputs": [],
   "source": [
    "#q3\n",
    "\"\"\"Comments in Python are lines of text that are ignored by the interpreter. \n",
    "They are used to explain code, make it more readable, and help with debugging.\n",
    "\n",
    "Types of Comments:\n",
    "    Single-line Comment (using #)\n",
    "    Multi-line Comment (using \"\"\" \"\"\" or ''' ''')\"\"\"\n",
    "\n",
    "# This is a single-line comment\n",
    "x = 10  # Assigning value to x\n",
    "\n",
    "\"\"\"\n",
    "This is a multi-line comment.\n",
    "It is useful for explaining complex logic.\n",
    "\"\"\"\n",
    "def add(a, b):\n",
    "    return a + b\n"
   ]
  },
  {
   "cell_type": "code",
   "execution_count": null,
   "metadata": {},
   "outputs": [],
   "source": [
    "#q4\n",
    "\"\"\"Significance of Indentation:\n",
    "        Python uses indentation to define blocks of code instead of braces {} like other languages.\n",
    "        Proper indentation improves readability and avoids syntax errors.\n",
    "        It ensures the correct execution of loops, functions, and conditional statements.\"\"\""
   ]
  },
  {
   "cell_type": "code",
   "execution_count": null,
   "metadata": {},
   "outputs": [],
   "source": [
    "#q5\n",
    "\"\"\"Effects of Incorrect Indentation:\n",
    "        IndentationError – Python will raise an error if indentation is not used properly.\n",
    "        Logical Errors – Even if the code runs, incorrect indentation may change its meaning.\"\"\"\n"
   ]
  },
  {
   "cell_type": "code",
   "execution_count": null,
   "metadata": {},
   "outputs": [],
   "source": [
    "#q6\n",
    "\"\"\"\n",
    "featture                 \tExpression\t                            Statement\n",
    "\n",
    "Definition\t        A piece of code that evaluates to a value.\tA complete line of code that performs an action.\n",
    "\n",
    "Returns a Value?\t            Yes                                     No\n",
    "\n",
    "Example\t                        5 + 3\t                                x = 10\n",
    "\n",
    "Used Inside Other Statements?\tYes\t                                    No\n",
    "\"\"\""
   ]
  }
 ],
 "metadata": {
  "kernelspec": {
   "display_name": "myenv",
   "language": "python",
   "name": "python3"
  },
  "language_info": {
   "name": "python",
   "version": "3.9.21"
  }
 },
 "nbformat": 4,
 "nbformat_minor": 2
}
