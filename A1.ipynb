{
 "cells": [
  {
   "cell_type": "code",
   "execution_count": null,
   "metadata": {},
   "outputs": [],
   "source": [
    "#Q1: Convert an integer to a floating-point number.\n",
    "num = 5\n",
    "float_num = float(num)\n",
    "print(float_num)  # Output: 5.0\n"
   ]
  },
  {
   "cell_type": "code",
   "execution_count": null,
   "metadata": {},
   "outputs": [],
   "source": [
    "#Q2: Convert a float to an integer.\n",
    "num = 5.9\n",
    "int_num = int(num)\n",
    "print(int_num)  # Output: 5\n"
   ]
  },
  {
   "cell_type": "code",
   "execution_count": null,
   "metadata": {},
   "outputs": [],
   "source": [
    "#Q3: Convert an integer to a string.\n",
    "num = 42\n",
    "str_num = str(num)\n",
    "print(str_num)  # Output: '42'\n"
   ]
  },
  {
   "cell_type": "code",
   "execution_count": null,
   "metadata": {},
   "outputs": [],
   "source": [
    "#Q4: Convert a list to a tuple.\n",
    "my_list = [1, 2, 3]\n",
    "my_tuple = tuple(my_list)\n",
    "print(my_tuple)  # Output: (1, 2, 3)\n",
    "\n"
   ]
  },
  {
   "cell_type": "code",
   "execution_count": null,
   "metadata": {},
   "outputs": [],
   "source": [
    "#Q5: Convert a tuple to a list.\n",
    "my_tuple = (4, 5, 6)\n",
    "my_list = list(my_tuple)\n",
    "print(my_list)  # Output: [4, 5, 6]\n"
   ]
  },
  {
   "cell_type": "code",
   "execution_count": null,
   "metadata": {},
   "outputs": [],
   "source": [
    "#Q6: Convert a non-zero number to boolean.\n",
    "num = 10\n",
    "bool_value = bool(num)\n",
    "print(bool_value)  # Output: True\n",
    "\n",
    "num_zero = 0\n",
    "bool_value_zero = bool(num_zero)\n",
    "print(bool_value_zero)  # Output: False\n"
   ]
  },
  {
   "cell_type": "code",
   "execution_count": null,
   "metadata": {},
   "outputs": [],
   "source": [
    "#Q7: Convert a decimal number to binary.\n",
    "num = 10\n",
    "binary_num = bin(num)\n",
    "print(binary_num)  # Output: '0b1010'\n"
   ]
  }
 ],
 "metadata": {
  "kernelspec": {
   "display_name": "base",
   "language": "python",
   "name": "python3"
  },
  "language_info": {
   "name": "python",
   "version": "3.12.7"
  }
 },
 "nbformat": 4,
 "nbformat_minor": 2
}
